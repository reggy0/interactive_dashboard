{
  "cells": [
    {
      "cell_type": "markdown",
      "metadata": {
        "id": "view-in-github",
        "colab_type": "text"
      },
      "source": [
        "<a href=\"https://colab.research.google.com/github/reggy0/interactive_dashboard/blob/main/CovidDashboard-World.ipynb\" target=\"_parent\"><img src=\"https://colab.research.google.com/assets/colab-badge.svg\" alt=\"Open In Colab\"/></a>"
      ]
    },
    {
      "cell_type": "markdown",
      "metadata": {
        "id": "Q4xpjerjTHQu"
      },
      "source": [
        "# <font color='#A7F432'><u>Covid19 Dashboard</u></font>"
      ]
    },
    {
      "cell_type": "markdown",
      "metadata": {
        "id": "Xy5CJXxKTHRf"
      },
      "source": [
        "<font color='#33CC99'>**Data Science with Raghav**</font>"
      ]
    },
    {
      "cell_type": "markdown",
      "metadata": {
        "id": "8bvGGODrTHRk"
      },
      "source": [
        "### Dependencies"
      ]
    },
    {
      "cell_type": "code",
      "execution_count": null,
      "metadata": {
        "id": "oECey469THRp"
      },
      "outputs": [],
      "source": [
        "#!pip install pandas\n",
        "#!pip install plotly\n",
        "#!pip install dash\n",
        "#!pip install dash_bootstrap_components"
      ]
    },
    {
      "cell_type": "code",
      "execution_count": null,
      "metadata": {
        "id": "RUorIjZzTHR5"
      },
      "outputs": [],
      "source": [
        "import pandas as pd\n",
        "pd.set_option('max_rows',20)\n",
        "import plotly.express as px\n",
        "import plotly.io as pio\n",
        "pio.renderers.default = \"browser\""
      ]
    },
    {
      "cell_type": "code",
      "execution_count": null,
      "metadata": {
        "id": "hHGPoc6RTHR-"
      },
      "outputs": [],
      "source": [
        "import dash\n",
        "from dash.dependencies import Input, Output\n",
        "import dash_core_components as dcc\n",
        "import dash_html_components as html\n",
        "import dash_bootstrap_components as dbc"
      ]
    },
    {
      "cell_type": "markdown",
      "metadata": {
        "id": "i04PWIUITHSD"
      },
      "source": [
        "### Get Data"
      ]
    },
    {
      "cell_type": "code",
      "execution_count": null,
      "metadata": {
        "id": "U-WWFHQvTHSI"
      },
      "outputs": [],
      "source": [
        "CONF_URL = 'https://raw.githubusercontent.com/CSSEGISandData/COVID-19/master/csse_covid_19_data/csse_covid_19_time_series/time_series_covid19_confirmed_global.csv'\n",
        "DEAD_URL = 'https://raw.githubusercontent.com/CSSEGISandData/COVID-19/master/csse_covid_19_data/csse_covid_19_time_series/time_series_covid19_deaths_global.csv'\n",
        "RECV_URL = 'https://raw.githubusercontent.com/CSSEGISandData/COVID-19/master/csse_covid_19_data/csse_covid_19_time_series/time_series_covid19_recovered_global.csv'"
      ]
    },
    {
      "cell_type": "code",
      "execution_count": null,
      "metadata": {
        "id": "v28jG6_3THSQ"
      },
      "outputs": [],
      "source": [
        "covid_conf_ts = pd.read_csv(CONF_URL)\n",
        "covid_dead_ts = pd.read_csv(DEAD_URL)\n",
        "covid_recv_ts = pd.read_csv(RECV_URL)"
      ]
    },
    {
      "cell_type": "markdown",
      "metadata": {
        "id": "P3ZgtD4RTHSW"
      },
      "source": [
        "### Data Processing"
      ]
    },
    {
      "cell_type": "code",
      "execution_count": null,
      "metadata": {
        "id": "EBz_ypvWTHSa"
      },
      "outputs": [],
      "source": [
        "#get data in cleaned time series format for country\n",
        "def process_data(data,cntry='US',window=3):\n",
        "    conf_ts = data\n",
        "    conf_ts_cntry = conf_ts[conf_ts['Country/Region']==cntry]\n",
        "    final_dataset = conf_ts_cntry.T[4:].sum(axis='columns').diff().rolling(window=window).mean()[40:]\n",
        "    df = pd.DataFrame(final_dataset,columns=['Total'])\n",
        "    return df"
      ]
    },
    {
      "cell_type": "code",
      "execution_count": null,
      "metadata": {
        "id": "mUae9S36THSi",
        "outputId": "77d3e492-297d-4255-f0ea-42b64b7aed44"
      },
      "outputs": [
        {
          "name": "stdout",
          "output_type": "stream",
          "text": [
            "Overall Confirmed: 5808946\n",
            "Overall Dead: 360308\n",
            "Overall Recovered: 2415960\n"
          ]
        }
      ],
      "source": [
        "#get overall wordlwide total for confirmed, recovered and dead cases\n",
        "def get_overall_total(df):\n",
        "    return df.iloc[:,-1].sum()\n",
        "\n",
        "conf_overall_total = get_overall_total(covid_conf_ts)\n",
        "dead_overall_total = get_overall_total(covid_dead_ts)\n",
        "recv_overall_total = get_overall_total(covid_recv_ts)\n",
        "print('Overall Confirmed:',conf_overall_total)\n",
        "print('Overall Dead:',dead_overall_total)\n",
        "print('Overall Recovered:',recv_overall_total)"
      ]
    },
    {
      "cell_type": "code",
      "execution_count": null,
      "metadata": {
        "id": "CneO_ZxfTHSw",
        "outputId": "c176b664-ef23-4957-aa13-aeaf83dd0d8e"
      },
      "outputs": [
        {
          "name": "stdout",
          "output_type": "stream",
          "text": [
            "US Confirmed: 1721753\n",
            "US Dead: 101616\n",
            "US Recovered: 399991\n"
          ]
        }
      ],
      "source": [
        "#get total for confirmed, recovered and dead for country \n",
        "def get_cntry_total(df,cntry='US'):\n",
        "    return df[df['Country/Region']==cntry].iloc[:,-1].sum()\n",
        "\n",
        "cntry = 'US'\n",
        "conf_cntry_total = get_cntry_total(covid_conf_ts,cntry)\n",
        "dead_cntry_total = get_cntry_total(covid_dead_ts,cntry)\n",
        "recv_cntry_total = get_cntry_total(covid_recv_ts,cntry)\n",
        "print(f'{cntry} Confirmed:',conf_cntry_total)\n",
        "print(f'{cntry} Dead:',dead_cntry_total)\n",
        "print(f'{cntry} Recovered:',recv_cntry_total)"
      ]
    },
    {
      "cell_type": "markdown",
      "metadata": {
        "id": "ycx6tigPTHS3"
      },
      "source": [
        "### Generate Line Graph using Plotly"
      ]
    },
    {
      "cell_type": "code",
      "execution_count": null,
      "metadata": {
        "id": "GeL5wTUnTHS6"
      },
      "outputs": [],
      "source": [
        "def fig_world_trend(cntry='US',window=3):\n",
        "    df = process_data(data=covid_conf_ts,cntry=cntry,window=window)\n",
        "    df.head(10)\n",
        "    if window==1:\n",
        "        yaxis_title = \"Daily Cases\"\n",
        "    else:\n",
        "        yaxis_title = \"Daily Cases ({}-day MA)\".format(window)\n",
        "    fig = px.line(df, y='Total', x=df.index, title='Daily confirmed cases trend for {}'.format(cntry),height=600,color_discrete_sequence =['maroon'])\n",
        "    fig.update_layout(title_x=0.5,plot_bgcolor='#F2DFCE',paper_bgcolor='#F2DFCE',xaxis_title=\"Date\",yaxis_title=yaxis_title)\n",
        "    return fig"
      ]
    },
    {
      "cell_type": "markdown",
      "metadata": {
        "id": "9Pmqs_EhTHTB"
      },
      "source": [
        "## **<font color='#FF00CC'><u>DASH APP</u></font>**"
      ]
    },
    {
      "cell_type": "code",
      "execution_count": null,
      "metadata": {
        "id": "LKfO-NeGTHTE"
      },
      "outputs": [],
      "source": [
        "external_stylesheets = [dbc.themes.BOOTSTRAP]"
      ]
    },
    {
      "cell_type": "code",
      "execution_count": null,
      "metadata": {
        "id": "mDnD0k_kTHTJ"
      },
      "outputs": [],
      "source": [
        "app = dash.Dash(__name__, external_stylesheets=external_stylesheets)\n",
        "app.title = 'Covid-19 Dashboard'"
      ]
    },
    {
      "cell_type": "markdown",
      "metadata": {
        "id": "Sh3DM47bTHTO"
      },
      "source": [
        "### Page Header"
      ]
    },
    {
      "cell_type": "code",
      "execution_count": null,
      "metadata": {
        "id": "yExlOrNXTHTS"
      },
      "outputs": [],
      "source": [
        "colors = {\n",
        "    'background': '#111111',\n",
        "    'bodyColor':'#F2DFCE',\n",
        "    'text': '#7FDBFF'\n",
        "}\n",
        "def get_page_heading_style():\n",
        "    return {'backgroundColor': colors['background']}\n",
        "\n",
        "\n",
        "def get_page_heading_title():\n",
        "    return html.H1(children='COVID-19 Dashboard',\n",
        "                                        style={\n",
        "                                        'textAlign': 'center',\n",
        "                                        'color': colors['text']\n",
        "                                    })\n",
        "\n",
        "def get_page_heading_subtitle():\n",
        "    return html.Div(children='Visualize Covid-19 data generated from sources all over the world.',\n",
        "                                         style={\n",
        "                                             'textAlign':'center',\n",
        "                                             'color':colors['text']\n",
        "                                         })\n",
        "\n",
        "def generate_page_header():\n",
        "    main_header =  dbc.Row(\n",
        "                            [\n",
        "                                dbc.Col(get_page_heading_title(),md=12)\n",
        "                            ],\n",
        "                            align=\"center\",\n",
        "                            style=get_page_heading_style()\n",
        "                        )\n",
        "    subtitle_header = dbc.Row(\n",
        "                            [\n",
        "                                dbc.Col(get_page_heading_subtitle(),md=12)\n",
        "                            ],\n",
        "                            align=\"center\",\n",
        "                            style=get_page_heading_style()\n",
        "                        )\n",
        "    header = (main_header,subtitle_header)\n",
        "    return header"
      ]
    },
    {
      "cell_type": "markdown",
      "metadata": {
        "id": "WI6LGxrSTHTY"
      },
      "source": [
        "### Select Country dropdown"
      ]
    },
    {
      "cell_type": "code",
      "execution_count": null,
      "metadata": {
        "id": "26vaCXJUTHTb"
      },
      "outputs": [],
      "source": [
        "def get_country_list():\n",
        "    return covid_conf_ts['Country/Region'].unique()\n",
        "\n",
        "def create_dropdown_list(cntry_list):\n",
        "    dropdown_list = []\n",
        "    for cntry in sorted(cntry_list):\n",
        "        tmp_dict = {'label':cntry,'value':cntry}\n",
        "        dropdown_list.append(tmp_dict)\n",
        "    return dropdown_list\n",
        "\n",
        "def get_country_dropdown(id):\n",
        "    return html.Div([\n",
        "                        html.Label('Select Country'),\n",
        "                        dcc.Dropdown(id='my-id'+str(id),\n",
        "                            options=create_dropdown_list(get_country_list()),\n",
        "                            value='US'\n",
        "                        ),\n",
        "                        html.Div(id='my-div'+str(id))\n",
        "                    ])"
      ]
    },
    {
      "cell_type": "markdown",
      "metadata": {
        "id": "2ALQPulBTHTg"
      },
      "source": [
        "### Graph Container for DASH"
      ]
    },
    {
      "cell_type": "code",
      "execution_count": null,
      "metadata": {
        "id": "kEPWJUHCTHTj"
      },
      "outputs": [],
      "source": [
        "def graph1():\n",
        "    return dcc.Graph(id='graph1',figure=fig_world_trend('US'))"
      ]
    },
    {
      "cell_type": "markdown",
      "metadata": {
        "id": "zt9JqGcxTHTn"
      },
      "source": [
        "### Generate CARDS for overall numbers"
      ]
    },
    {
      "cell_type": "code",
      "execution_count": null,
      "metadata": {
        "id": "gasa7sZ3THTq"
      },
      "outputs": [],
      "source": [
        "def generate_card_content(card_header,card_value,overall_value):\n",
        "    card_head_style = {'textAlign':'center','fontSize':'150%'}\n",
        "    card_body_style = {'textAlign':'center','fontSize':'200%'}\n",
        "    card_header = dbc.CardHeader(card_header,style=card_head_style)\n",
        "    card_body = dbc.CardBody(\n",
        "        [\n",
        "            html.H5(f\"{int(card_value):,}\", className=\"card-title\",style=card_body_style),\n",
        "            html.P(\n",
        "                \"Worlwide: {:,}\".format(overall_value),\n",
        "                className=\"card-text\",style={'textAlign':'center'}\n",
        "            ),\n",
        "        ]\n",
        "    )\n",
        "    card = [card_header,card_body]\n",
        "    return card"
      ]
    },
    {
      "cell_type": "code",
      "execution_count": null,
      "metadata": {
        "id": "zVD7xAimTHTv"
      },
      "outputs": [],
      "source": [
        "def generate_cards(cntry='US'):\n",
        "    conf_cntry_total = get_cntry_total(covid_conf_ts,cntry)\n",
        "    dead_cntry_total = get_cntry_total(covid_dead_ts,cntry)\n",
        "    recv_cntry_total = get_cntry_total(covid_recv_ts,cntry)\n",
        "    cards = html.Div(\n",
        "        [\n",
        "            dbc.Row(\n",
        "                [\n",
        "                    dbc.Col(dbc.Card(generate_card_content(\"Recovered\",recv_cntry_total,recv_overall_total), color=\"success\", inverse=True),md=dict(size=2,offset=3)),\n",
        "                    dbc.Col(dbc.Card(generate_card_content(\"Confirmed\",conf_cntry_total,conf_overall_total), color=\"warning\", inverse=True),md=dict(size=2)),\n",
        "                    dbc.Col(dbc.Card(generate_card_content(\"Dead\",dead_cntry_total,dead_overall_total),color=\"dark\", inverse=True),md=dict(size=2)),\n",
        "                ],\n",
        "                className=\"mb-4\",\n",
        "            ),\n",
        "        ],id='card1'\n",
        "    )\n",
        "    return cards"
      ]
    },
    {
      "cell_type": "markdown",
      "metadata": {
        "id": "_FWLinpiTHT0"
      },
      "source": [
        "### DASH Slider for Moving Average Window"
      ]
    },
    {
      "cell_type": "code",
      "execution_count": null,
      "metadata": {
        "id": "pZfjrbFPTHT3"
      },
      "outputs": [],
      "source": [
        "def get_slider():\n",
        "    return html.Div([  \n",
        "                        dcc.Slider(\n",
        "                            id='my-slider',\n",
        "                            min=1,\n",
        "                            max=15,\n",
        "                            step=None,\n",
        "                            marks={\n",
        "                                1: '1',\n",
        "                                3: '3',\n",
        "                                5: '5',\n",
        "                                7: '1-Week',\n",
        "                                14: 'Fortnight'\n",
        "                            },\n",
        "                            value=3,\n",
        "                        ),\n",
        "                        html.Div([html.Label('Select Moving Average Window')],id='my-div'+str(id),style={'textAlign':'center'})\n",
        "                    ])"
      ]
    },
    {
      "cell_type": "markdown",
      "metadata": {
        "id": "q39Tx9UOTHT8"
      },
      "source": [
        "### Generate APP layout"
      ]
    },
    {
      "cell_type": "code",
      "execution_count": null,
      "metadata": {
        "id": "ZTXAJ0BcTHT_"
      },
      "outputs": [],
      "source": [
        "def generate_layout():\n",
        "    page_header = generate_page_header()\n",
        "    layout = dbc.Container(\n",
        "        [\n",
        "            page_header[0],\n",
        "            page_header[1],\n",
        "            html.Hr(),\n",
        "            generate_cards(),\n",
        "            html.Hr(),\n",
        "            dbc.Row(\n",
        "                [\n",
        "                    dbc.Col(get_country_dropdown(id=1),md=dict(size=4,offset=4))                    \n",
        "                ]\n",
        "            \n",
        "            ),\n",
        "            dbc.Row(\n",
        "                [                \n",
        "                    \n",
        "                    dbc.Col(graph1(),md=dict(size=6,offset=3))\n",
        "        \n",
        "                ],\n",
        "                align=\"center\",\n",
        "\n",
        "            ),\n",
        "            dbc.Row(\n",
        "                [\n",
        "                    dbc.Col(get_slider(),md=dict(size=4,offset=4))                    \n",
        "                ]\n",
        "            \n",
        "            ),\n",
        "        ],fluid=True,style={'backgroundColor': colors['bodyColor']}\n",
        "    )\n",
        "    return layout"
      ]
    },
    {
      "cell_type": "code",
      "execution_count": null,
      "metadata": {
        "id": "EpuIRzGCTHUE"
      },
      "outputs": [],
      "source": [
        "app.layout = generate_layout()"
      ]
    },
    {
      "cell_type": "markdown",
      "metadata": {
        "id": "EO-z1BNKTHUI"
      },
      "source": [
        "### Assign DASH Callbacks"
      ]
    },
    {
      "cell_type": "code",
      "execution_count": null,
      "metadata": {
        "id": "MHhpUIIcTHUL"
      },
      "outputs": [],
      "source": [
        "@app.callback(\n",
        "    [Output(component_id='graph1',component_property='figure'), #line chart\n",
        "    Output(component_id='card1',component_property='children')], #overall card numbers\n",
        "    [Input(component_id='my-id1',component_property='value'), #dropdown\n",
        "     Input(component_id='my-slider',component_property='value')] #slider\n",
        ")\n",
        "def update_output_div(input_value1,input_value2):\n",
        "    return fig_world_trend(input_value1,input_value2),generate_cards(input_value1)"
      ]
    },
    {
      "cell_type": "markdown",
      "metadata": {
        "id": "t2WMWAD1THUP"
      },
      "source": [
        "## RUN the app server"
      ]
    },
    {
      "cell_type": "code",
      "execution_count": null,
      "metadata": {
        "id": "hiH0TuV7THUa",
        "outputId": "6e1aa4f6-4348-4902-a49e-3e3609621a7c"
      },
      "outputs": [
        {
          "name": "stdout",
          "output_type": "stream",
          "text": [
            " * Serving Flask app \"__main__\" (lazy loading)\n",
            " * Environment: production\n",
            "   WARNING: This is a development server. Do not use it in a production deployment.\n",
            "   Use a production WSGI server instead.\n",
            " * Debug mode: off\n"
          ]
        },
        {
          "name": "stderr",
          "output_type": "stream",
          "text": [
            " * Running on http://0.0.0.0:8050/ (Press CTRL+C to quit)\n",
            "127.0.0.1 - - [29/May/2020 00:28:21] \"\u001b[37mGET / HTTP/1.1\u001b[0m\" 200 -\n",
            "127.0.0.1 - - [29/May/2020 00:28:21] \"\u001b[37mGET /_dash-component-suites/dash_renderer/polyfill@7.v1_2_2m1585082973.7.0.min.js HTTP/1.1\u001b[0m\" 200 -\n",
            "127.0.0.1 - - [29/May/2020 00:28:21] \"\u001b[37mGET /_dash-component-suites/dash_renderer/react@16.v1_2_2m1585082973.8.6.min.js HTTP/1.1\u001b[0m\" 200 -\n",
            "127.0.0.1 - - [29/May/2020 00:28:21] \"\u001b[37mGET /_dash-component-suites/dash_renderer/prop-types@15.v1_2_2m1585082973.7.2.min.js HTTP/1.1\u001b[0m\" 200 -\n",
            "127.0.0.1 - - [29/May/2020 00:28:21] \"\u001b[37mGET /_dash-component-suites/dash_html_components/dash_html_components.v1_0_2m1585082975.min.js HTTP/1.1\u001b[0m\" 200 -\n",
            "127.0.0.1 - - [29/May/2020 00:28:21] \"\u001b[37mGET /_dash-component-suites/dash_renderer/react-dom@16.v1_2_2m1585082973.8.6.min.js HTTP/1.1\u001b[0m\" 200 -\n",
            "127.0.0.1 - - [29/May/2020 00:28:21] \"\u001b[37mGET /_dash-component-suites/dash_bootstrap_components/_components/dash_bootstrap_components.v0_9_1m1585249101.min.js HTTP/1.1\u001b[0m\" 200 -\n",
            "127.0.0.1 - - [29/May/2020 00:28:21] \"\u001b[37mGET /_dash-component-suites/dash_core_components/dash_core_components.v1_8_1m1585082974.min.js HTTP/1.1\u001b[0m\" 200 -\n",
            "127.0.0.1 - - [29/May/2020 00:28:22] \"\u001b[37mGET /_dash-component-suites/dash_core_components/dash_core_components-shared.v1_8_1m1585082974.js HTTP/1.1\u001b[0m\" 200 -\n",
            "127.0.0.1 - - [29/May/2020 00:28:22] \"\u001b[37mGET /_dash-component-suites/dash_renderer/dash_renderer.v1_2_2m1585082973.min.js HTTP/1.1\u001b[0m\" 200 -\n",
            "127.0.0.1 - - [29/May/2020 00:28:22] \"\u001b[37mGET /_dash-dependencies HTTP/1.1\u001b[0m\" 200 -\n",
            "127.0.0.1 - - [29/May/2020 00:28:22] \"\u001b[37mGET /_dash-layout HTTP/1.1\u001b[0m\" 200 -\n",
            "127.0.0.1 - - [29/May/2020 00:28:23] \"\u001b[37mPOST /_dash-update-component HTTP/1.1\u001b[0m\" 200 -\n",
            "127.0.0.1 - - [29/May/2020 00:33:47] \"\u001b[37mPOST /_dash-update-component HTTP/1.1\u001b[0m\" 200 -\n",
            "127.0.0.1 - - [29/May/2020 00:34:03] \"\u001b[37mPOST /_dash-update-component HTTP/1.1\u001b[0m\" 200 -\n",
            "127.0.0.1 - - [29/May/2020 00:34:07] \"\u001b[37mPOST /_dash-update-component HTTP/1.1\u001b[0m\" 200 -\n",
            "127.0.0.1 - - [29/May/2020 00:34:10] \"\u001b[37mPOST /_dash-update-component HTTP/1.1\u001b[0m\" 200 -\n",
            "127.0.0.1 - - [29/May/2020 00:34:13] \"\u001b[37mPOST /_dash-update-component HTTP/1.1\u001b[0m\" 200 -\n",
            "127.0.0.1 - - [29/May/2020 00:36:27] \"\u001b[37mPOST /_dash-update-component HTTP/1.1\u001b[0m\" 200 -\n",
            "127.0.0.1 - - [29/May/2020 00:55:02] \"\u001b[37mPOST /_dash-update-component HTTP/1.1\u001b[0m\" 200 -\n",
            "127.0.0.1 - - [29/May/2020 00:55:25] \"\u001b[37mPOST /_dash-update-component HTTP/1.1\u001b[0m\" 200 -\n",
            "127.0.0.1 - - [29/May/2020 00:57:04] \"\u001b[37mPOST /_dash-update-component HTTP/1.1\u001b[0m\" 200 -\n",
            "127.0.0.1 - - [29/May/2020 01:05:15] \"\u001b[37mPOST /_dash-update-component HTTP/1.1\u001b[0m\" 200 -\n",
            "127.0.0.1 - - [29/May/2020 01:05:22] \"\u001b[37mPOST /_dash-update-component HTTP/1.1\u001b[0m\" 200 -\n",
            "127.0.0.1 - - [29/May/2020 01:05:26] \"\u001b[37mPOST /_dash-update-component HTTP/1.1\u001b[0m\" 200 -\n",
            "127.0.0.1 - - [29/May/2020 01:05:29] \"\u001b[37mPOST /_dash-update-component HTTP/1.1\u001b[0m\" 200 -\n",
            "127.0.0.1 - - [29/May/2020 01:05:31] \"\u001b[37mPOST /_dash-update-component HTTP/1.1\u001b[0m\" 200 -\n",
            "127.0.0.1 - - [29/May/2020 01:05:33] \"\u001b[37mPOST /_dash-update-component HTTP/1.1\u001b[0m\" 200 -\n",
            "127.0.0.1 - - [29/May/2020 01:05:35] \"\u001b[37mPOST /_dash-update-component HTTP/1.1\u001b[0m\" 200 -\n",
            "127.0.0.1 - - [29/May/2020 01:05:35] \"\u001b[37mPOST /_dash-update-component HTTP/1.1\u001b[0m\" 200 -\n",
            "127.0.0.1 - - [29/May/2020 01:05:44] \"\u001b[37mPOST /_dash-update-component HTTP/1.1\u001b[0m\" 200 -\n"
          ]
        }
      ],
      "source": [
        "app.run_server(host= '0.0.0.0',debug=False)"
      ]
    },
    {
      "cell_type": "markdown",
      "metadata": {
        "id": "iS77b7-jTHUe"
      },
      "source": [
        "# Exercise"
      ]
    },
    {
      "cell_type": "markdown",
      "metadata": {
        "id": "9BS965edTHUh"
      },
      "source": [
        "1. Generate similar line graphs for Dead and Recovered and show it on the Dashboard alongside the confirmed trend\n",
        "2. Generate logarithmic graph for confirmed cases for all countries in one plot\n",
        "3. Write a function to download latest data at a set frequency\n",
        "4. Deploy this to a web server which can be accessed wordwide"
      ]
    },
    {
      "cell_type": "code",
      "execution_count": null,
      "metadata": {
        "id": "skhaFFR-THUl"
      },
      "outputs": [],
      "source": [
        ""
      ]
    }
  ],
  "metadata": {
    "kernelspec": {
      "display_name": "Python 3",
      "language": "python",
      "name": "python3"
    },
    "language_info": {
      "codemirror_mode": {
        "name": "ipython",
        "version": 3
      },
      "file_extension": ".py",
      "mimetype": "text/x-python",
      "name": "python",
      "nbconvert_exporter": "python",
      "pygments_lexer": "ipython3",
      "version": "3.6.9"
    },
    "colab": {
      "name": "V5_CovidDashboard-World.ipynb",
      "provenance": [],
      "include_colab_link": true
    }
  },
  "nbformat": 4,
  "nbformat_minor": 0
}